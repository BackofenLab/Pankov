{
 "cells": [
  {
   "cell_type": "code",
   "execution_count": 1,
   "metadata": {},
   "outputs": [
    {
     "data": {
      "text/html": [
       "<style>.container { width:95% !important; }</style>"
      ],
      "text/plain": [
       "<IPython.core.display.HTML object>"
      ]
     },
     "execution_count": 1,
     "metadata": {},
     "output_type": "execute_result"
    }
   ],
   "source": [
    "from IPython.core.display import HTML\n",
    "HTML('<style>.container { width:95% !important; }</style>')"
   ]
  },
  {
   "cell_type": "code",
   "execution_count": 2,
   "metadata": {
    "code_folding": []
   },
   "outputs": [
    {
     "name": "stdout",
     "output_type": "stream",
     "text": [
      "tools_dir /media/milad/ubuntu14/home/milad/workspace/pankoff/LocARNA-Pankoff/../lib/\n"
     ]
    }
   ],
   "source": [
    "%matplotlib inline\n",
    "from matplotlib import pyplot as plt\n",
    "import seaborn as sns\n",
    "\n",
    "# Import libraries located in relation to this file\n",
    "import inspect, os, sys\n",
    "current_dir = os.path.dirname(os.path.abspath(inspect.getfile(inspect.currentframe())))\n",
    "parent_dir = os.path.dirname(current_dir)\n",
    "tools_dir = os.path.join(parent_dir, '../lib/')\n",
    "print \"tools_dir\", tools_dir\n",
    "sys.path.insert(0, tools_dir)\n",
    "\n",
    "from pankoff_lib import *\n",
    "from vienna_lib import *"
   ]
  },
  {
   "cell_type": "code",
   "execution_count": 5,
   "metadata": {
    "code_folding": [
     16
    ]
   },
   "outputs": [
    {
     "name": "stdout",
     "output_type": "stream",
     "text": [
      "Stopped reading subopts exceeding the maxnum\n",
      "('#suboptimal:', 500)\n",
      "get_all_pmcomp_pankoff_scoresZ\n",
      "get_pmcomp_pankoff_scores\n",
      "('get_subopt_pmcomp_pankoff_scores ensembel_energy:', -27.89)\n",
      "Figure saved to: SPR_00633.svg\n"
     ]
    }
   ],
   "source": [
    "import pankoff_lib\n",
    "\n",
    "\n",
    "\n",
    "rename_dict = {'rnasubopt':'Referenece energy',\n",
    "               'order':'Rank referenece energy',\n",
    "               \n",
    "               'pmcomp':'PMcomp energy',#'$\\Pi$(bp-probs)',\n",
    "                'pmcomp-exact':'PMcomp score\\n'+r'$(P_{min}=1/(2\\cdot$seq-len$))$',#r'{\\fontsize{80pt}{13em}\\selectfont{}$(\\beta=1.5)$}',#'$\\Sigma$(bp-weights)',\n",
    "                'pankoff':'Pankov energy\\n(ML-prod)',\n",
    "             'pankoff-min':'Pankov energy\\n(ML-min)',\n",
    "               'pankoff-exact':'Pankov score\\n'+r'(ML-prod,$\\beta=1.5$)'\n",
    "              }\n",
    "\n",
    "\n",
    "def plot_scatter_df_new(df,x,y,ylim=None,ax=None,rename=True,color='k'):\n",
    "    if ylim:\n",
    "        ax.set_ylim(ylim)\n",
    "    \n",
    "    ll = sns.regplot(x,y,data=df,fit_reg=False,\n",
    "                lowess=True,scatter_kws={'s':6,\"alpha\":0.8,'color':color},line_kws={'alpha':0.99,'color':'k'},\n",
    "               ax=ax)\n",
    "    \n",
    "    from scipy import stats\n",
    "    if rename:\n",
    "        ax.set_xlabel(rename_dict.get(x,x))\n",
    "        ax.set_ylabel(rename_dict.get(y,y))\n",
    "    ax.annotate('correlation = {0:.2f}'.format(df.corr('spearman')[x][y]),(0.41,0.92),\n",
    "                xycoords='axes fraction',color='black', weight='semibold' ,fontsize=11)\n",
    "    return ax.get_legend_handles_labels()\n",
    "\n",
    "\n",
    "def plot_all_scatters_new(df,figname=None):\n",
    "    sns.reset_defaults()\n",
    "    sns.set_style('darkgrid')\n",
    "    sns.set_context('paper', font_scale=1.2)\n",
    "    \n",
    "    fig=plt.figure(figsize=(10,6))\n",
    "    fignum = 230\n",
    "\n",
    "    fancy_pal = sns.color_palette('Paired',12)[:2]+sns.color_palette('Paired',12)[9:10]+sns.color_palette('Paired',12)[4:6]\n",
    "    fancy_pal2 = sns.color_palette('colorblind',10)[1:2]+sns.color_palette('colorblind',10)[3:4]+sns.color_palette('colorblind',10)[5:6] + sns.color_palette('colorblind',10)[0:1]+sns.color_palette('colorblind',10)[9:10]\n",
    "    fancy_pale2 = sns.color_palette('Set1')\n",
    "    plot_scatter_df_new(df, 'order', 'pankoff',[-28,-19],fig.add_subplot(fignum+5),color=fancy_pal2[0])\n",
    "    plot_scatter_df_new(df, 'order', 'pankoff-min',[-28,-19],fig.add_subplot(fignum+4),color=fancy_pal2[1])\n",
    "    plot_scatter_df_new(df, 'order', 'pankoff-exact',[-51,-39],#[-30,20],\n",
    "                        fig.add_subplot(fignum+6),color=fancy_pal2[2])\n",
    "    \n",
    "    plot_scatter_df_new(df, 'order', 'rnasubopt',[-28,-19],fig.add_subplot(fignum+1),color='k')\n",
    "    \n",
    "    plot_scatter_df_new(df, 'order', 'pmcomp-exact',[-44,-36],#[-42,58],\n",
    "                        fig.add_subplot(fignum+3),color=fancy_pal2[3])\n",
    "    \n",
    "    plot_scatter_df_new(df, 'order', 'pmcomp',[-26,-5],fig.add_subplot(fignum+2),color=fancy_pal2[4])\n",
    "\n",
    "    \n",
    "    fig.tight_layout()    \n",
    "    fig.tight_layout(pad=1)\n",
    "    if figname:\n",
    "        fig.savefig(figname+'.svg')\n",
    "        print(\"Figure saved to: \" + figname+'.svg')\n",
    "        \n",
    "def calc_scores_lib(seqname):\n",
    "    subopt_file='./data/'+seqname+'.subopt.out'\n",
    "    suboptimals = parse_subpot_out(subopt_file, 500)\n",
    "    from Bio import SeqIO\n",
    "    seq = str(SeqIO.read('./data/'+seqname+'.fa', 'fasta').seq)\n",
    "    \n",
    "    df_subopts_scores, pankoff_scores, pankoff_min_scores, pankoff_exact_scores, pmcomp_scores, pmcomp_exact_scores,  MFE_structs, MFE_energies =\\\n",
    "        pankoff_lib.get_all_pmcomp_pankoff_scores(seq, suboptimals, seqname, t1='1e-5', t2='1e-8',bonus=1.5, target_dir='./data/')\n",
    "    plot_all_scatters_new(df_subopts_scores,seqname)\n",
    "calc_scores_lib('SPR_00633')\n"
   ]
  },
  {
   "cell_type": "code",
   "execution_count": null,
   "metadata": {},
   "outputs": [],
   "source": []
  }
 ],
 "metadata": {
  "anaconda-cloud": {},
  "kernelspec": {
   "display_name": "Python 2",
   "language": "python",
   "name": "python2"
  },
  "language_info": {
   "codemirror_mode": {
    "name": "ipython",
    "version": 2
   },
   "file_extension": ".py",
   "mimetype": "text/x-python",
   "name": "python",
   "nbconvert_exporter": "python",
   "pygments_lexer": "ipython2",
   "version": "2.7.15"
  }
 },
 "nbformat": 4,
 "nbformat_minor": 1
}
